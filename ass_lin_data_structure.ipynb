{
 "cells": [
  {
   "cell_type": "markdown",
   "id": "cc4c53ab",
   "metadata": {},
   "source": [
    "## 1.Write a program to find all pairs of an integer array whose sum is equal to a given number?"
   ]
  },
  {
   "cell_type": "code",
   "execution_count": 1,
   "id": "b888ff86",
   "metadata": {},
   "outputs": [],
   "source": [
    "def getPairsCount(arr, n, sum1):\n",
    " \n",
    "    count = 0 \n",
    " \n",
    "    for i in range(0, n):\n",
    "        for j in range(i + 1, n):\n",
    "            if arr[i] + arr[j] == sum1:\n",
    "                count += 1\n",
    " \n",
    "    return count\n",
    " \n"
   ]
  },
  {
   "cell_type": "code",
   "execution_count": 2,
   "id": "ef579d4d",
   "metadata": {},
   "outputs": [
    {
     "name": "stdout",
     "output_type": "stream",
     "text": [
      "Count of pairs is 2\n"
     ]
    }
   ],
   "source": [
    "import numpy as np\n",
    "arr = [2, 6, 8, -2, 0]\n",
    "n = len(arr)\n",
    "sum1 = 6\n",
    "print(\"Count of pairs is\",\n",
    "      getPairsCount(arr, n, sum1))"
   ]
  },
  {
   "cell_type": "markdown",
   "id": "e66365d4",
   "metadata": {},
   "source": [
    "## 2. Write a program to reverse an array in place? In place means you cannot create a new array.  You have to update the original array."
   ]
  },
  {
   "cell_type": "code",
   "execution_count": 3,
   "id": "e5f61c3d",
   "metadata": {},
   "outputs": [],
   "source": [
    "def reverseList(A, start, end):\n",
    "    while start < end:\n",
    "        A[start], A[end] = A[end], A[start]\n",
    "        start += 1\n",
    "        end -= 1"
   ]
  },
  {
   "cell_type": "code",
   "execution_count": 4,
   "id": "daf4d2af",
   "metadata": {},
   "outputs": [
    {
     "name": "stdout",
     "output_type": "stream",
     "text": [
      "[1, 2, 3, 4, 5, 6]\n",
      "Reversed list is\n",
      "[6, 5, 4, 3, 2, 1]\n"
     ]
    }
   ],
   "source": [
    "A = [1, 2, 3, 4, 5, 6]\n",
    "print(A)\n",
    "reverseList(A, 0, 5)\n",
    "print(\"Reversed list is\")\n",
    "print(A)"
   ]
  },
  {
   "cell_type": "markdown",
   "id": "eec7884d",
   "metadata": {},
   "source": [
    "## 3.Write a program to check if two strings are a rotation of each other?"
   ]
  },
  {
   "cell_type": "code",
   "execution_count": 5,
   "id": "e4a9d28b",
   "metadata": {},
   "outputs": [],
   "source": [
    "def areRotations(string1, string2):\n",
    "    size1 = len(string1)\n",
    "    size2 = len(string2)\n",
    "    temp = ''\n",
    " \n",
    "    # Check if sizes of two strings are same\n",
    "    if size1 != size2:\n",
    "        return 0\n",
    " \n",
    "    # Create a temp string with value str1.str1\n",
    "    temp = string1 + string1\n",
    " \n",
    "    # Now check if str2 is a substring of temp\n",
    "    # string.count returns the number of occurrences of\n",
    "    # the second string in temp\n",
    "    if (temp.count(string2)> 0):\n",
    "        return 1\n",
    "    else:\n",
    "        return 0\n"
   ]
  },
  {
   "cell_type": "code",
   "execution_count": 6,
   "id": "a73caa9b",
   "metadata": {},
   "outputs": [
    {
     "name": "stdout",
     "output_type": "stream",
     "text": [
      "aacd\n",
      "acda\n",
      "Strings are rotations of each other\n"
     ]
    }
   ],
   "source": [
    "string1 = input(str())\n",
    "string2 = input(str())\n",
    " \n",
    "if areRotations(string1, string2):\n",
    "    print (\"Strings are rotations of each other\")\n",
    "else:\n",
    "    print (\"Strings are not rotations of each other\")"
   ]
  },
  {
   "cell_type": "markdown",
   "id": "fc2c3309",
   "metadata": {},
   "source": [
    "## 4. Write a program to print the first non-repeated character from a string?"
   ]
  },
  {
   "cell_type": "code",
   "execution_count": 7,
   "id": "f3d0a399",
   "metadata": {},
   "outputs": [
    {
     "name": "stdout",
     "output_type": "stream",
     "text": [
      "First non-repeating character is i\n"
     ]
    }
   ],
   "source": [
    "\n",
    "NO_OF_CHARS = 256\n",
    " \n",
    "# Returns an array of size 256 containing count of characters in the passed char array\n",
    "def getCharCountArray(string):\n",
    "    count = [0] * NO_OF_CHARS\n",
    "    for i in string:\n",
    "        count[ord(i)]+= 1\n",
    "    return count\n",
    " \n",
    "# The function returns index of first non-repeating\n",
    "# character in a string. If all characters are repeating\n",
    "# then returns -1\n",
    "def firstNonRepeating(string):\n",
    "    count = getCharCountArray(string)\n",
    "    index = -1\n",
    "    k = 0\n",
    " \n",
    "    for i in string:\n",
    "        if count[ord(i)] == 1:\n",
    "            index = k\n",
    "            break\n",
    "        k += 1\n",
    " \n",
    "    return index\n",
    " \n",
    "#  test above function\n",
    "string = \"chingchong\"\n",
    "index = firstNonRepeating(string)\n",
    "if index == 1:\n",
    "    print (\"Either all characters are repeating or string is empty\")\n",
    "else:\n",
    "    print (\"First non-repeating character is \" + string[index])"
   ]
  },
  {
   "cell_type": "markdown",
   "id": "5b56b391",
   "metadata": {},
   "source": [
    "## 5.def TowerOfHanoi(n , from_rod, to_rod, aux_rod)\n",
    "   "
   ]
  },
  {
   "cell_type": "code",
   "execution_count": 8,
   "id": "c79b8030",
   "metadata": {},
   "outputs": [
    {
     "name": "stdout",
     "output_type": "stream",
     "text": [
      "Move disk 1 from rod A to rod B\n",
      "Move disk 2 from rod A to rod C\n",
      "Move disk 1 from rod B to rod C\n",
      "Move disk 3 from rod A to rod B\n",
      "Move disk 1 from rod C to rod A\n",
      "Move disk 2 from rod C to rod B\n",
      "Move disk 1 from rod A to rod B\n",
      "Move disk 4 from rod A to rod C\n",
      "Move disk 1 from rod B to rod C\n",
      "Move disk 2 from rod B to rod A\n",
      "Move disk 1 from rod C to rod A\n",
      "Move disk 3 from rod B to rod C\n",
      "Move disk 1 from rod A to rod B\n",
      "Move disk 2 from rod A to rod C\n",
      "Move disk 1 from rod B to rod C\n"
     ]
    }
   ],
   "source": [
    "def TowerOfHanoi(n , from_rod, to_rod, aux_rod):\n",
    "    if n == 1:\n",
    "        print(\"Move disk 1 from rod\",from_rod,\"to rod\",to_rod)\n",
    "        return\n",
    "    TowerOfHanoi(n-1, from_rod, aux_rod, to_rod)\n",
    "    print(\"Move disk\",n,\"from rod\",from_rod,\"to rod\",to_rod)\n",
    "    TowerOfHanoi(n-1, aux_rod, to_rod, from_rod)\n",
    "         \n",
    "# Driver code\n",
    "n = 4\n",
    "TowerOfHanoi(n, 'A', 'C', 'B')"
   ]
  },
  {
   "cell_type": "markdown",
   "id": "10819364",
   "metadata": {},
   "source": [
    "## 6. Read about infix, prefix and postfix expressions. Write a program to convert postfix to prefix expression."
   ]
  },
  {
   "cell_type": "code",
   "execution_count": 9,
   "id": "0027042c",
   "metadata": {},
   "outputs": [
    {
     "name": "stdout",
     "output_type": "stream",
     "text": [
      "Prefix :  +AB-CD\n"
     ]
    }
   ],
   "source": [
    "def isOperator(x):\n",
    " \n",
    "    if x == \"+\":\n",
    "        return True\n",
    " \n",
    "    if x == \"-\":\n",
    "        return True\n",
    " \n",
    "    if x == \"/\":\n",
    "        return True\n",
    " \n",
    "    if x == \"*\":\n",
    "        return True\n",
    " \n",
    "    return False\n",
    " \n",
    "# Convert postfix to Prefix expression\n",
    " \n",
    " \n",
    "def postToPre(post_exp):\n",
    " \n",
    "    s = []\n",
    "    # length of expression\n",
    "    length = len(post_exp)\n",
    " \n",
    "    # reading from right to left\n",
    "    for i in range(length):\n",
    " \n",
    "        # check if symbol is operator\n",
    "        if (isOperator(post_exp[i])):\n",
    " \n",
    "            # pop two operands from stack\n",
    "            op1 = s[-1]\n",
    "            s.pop()\n",
    "            op2 = s[-1]\n",
    "            s.pop()\n",
    " \n",
    "            # concat the operands and operator\n",
    "            temp = post_exp[i] + op2 + op1\n",
    " \n",
    "            # Push string temp back to stack\n",
    "            s.append(temp)\n",
    " \n",
    "        # if symbol is an operand\n",
    "        else:\n",
    " \n",
    "            # push the operand to the stack\n",
    "            s.append(post_exp[i])\n",
    " \n",
    "    \n",
    "    ans = \"\"\n",
    "    for i in s:\n",
    "        ans += i\n",
    "    return ans\n",
    " \n",
    " \n",
    "# Driver Code\n",
    "if __name__ == \"__main__\":\n",
    " \n",
    "    post_exp = \"AB+CD-\"\n",
    "     \n",
    "    # Function call\n",
    "    print(\"Prefix : \", postToPre(post_exp))"
   ]
  },
  {
   "cell_type": "markdown",
   "id": "7fc87e6f",
   "metadata": {},
   "source": [
    "## 7.Write a program to convert prefix expression to infix expression."
   ]
  },
  {
   "cell_type": "code",
   "execution_count": 10,
   "id": "3b6c6f6c",
   "metadata": {},
   "outputs": [],
   "source": [
    "def prefixToInfix(prefix):\n",
    "    stack = []\n",
    "     \n",
    "    # read prefix in reverse order\n",
    "    i = len(prefix) - 1\n",
    "    while i >= 0:\n",
    "        if not isOperator(prefix[i]):\n",
    "             \n",
    "            # symbol is operand\n",
    "            stack.append(prefix[i])\n",
    "            i -= 1\n",
    "        else:\n",
    "           \n",
    "            # symbol is operator\n",
    "            str = \"(\" + stack.pop() + prefix[i] + stack.pop() + \")\"\n",
    "            stack.append(str)\n",
    "            i -= 1\n",
    "     \n",
    "    return stack.pop()\n",
    " \n",
    "def isOperator(c):\n",
    "    if c == \"*\" or c == \"+\" or c == \"-\" or c == \"/\" or c == \"^\" or c == \"(\" or c == \")\":\n",
    "        return True\n",
    "    else:\n",
    "        return False"
   ]
  },
  {
   "cell_type": "code",
   "execution_count": 11,
   "id": "d1f607a8",
   "metadata": {},
   "outputs": [
    {
     "name": "stdout",
     "output_type": "stream",
     "text": [
      "((A-(B/C))*((A/K)-L))\n"
     ]
    }
   ],
   "source": [
    "# Driver code\n",
    "if __name__==\"__main__\":\n",
    "    str = \"*-A/BC-/AKL\"\n",
    "    print(prefixToInfix(str))"
   ]
  },
  {
   "cell_type": "markdown",
   "id": "e3f0293f",
   "metadata": {},
   "source": [
    "## 8. Write a program to check if all the brackets are closed in a given code snippet"
   ]
  },
  {
   "cell_type": "code",
   "execution_count": 12,
   "id": "ec2402c3",
   "metadata": {},
   "outputs": [
    {
     "name": "stdout",
     "output_type": "stream",
     "text": [
      "Balanced\n"
     ]
    }
   ],
   "source": [
    "def areBracketsBalanced(expr):\n",
    "    stack = []\n",
    " \n",
    "    # Traversing the Expression\n",
    "    for char in expr:\n",
    "        if char in [\"(\", \"{\", \"[\"]:\n",
    " \n",
    "            # Push the element in the stack\n",
    "            stack.append(char)\n",
    "        else:\n",
    " \n",
    "            # IF current character is not opening\n",
    "            # bracket, then it must be closing.\n",
    "            # So stack cannot be empty at this point.\n",
    "            if not stack:\n",
    "                return False\n",
    "            current_char = stack.pop()\n",
    "            if current_char == '(':\n",
    "                if char != \")\":\n",
    "                    return False\n",
    "            if current_char == '{':\n",
    "                if char != \"}\":\n",
    "                    return False\n",
    "            if current_char == '[':\n",
    "                if char != \"]\":\n",
    "                    return False\n",
    "                # Check Empty Stack\n",
    "    if stack:\n",
    "        return False\n",
    "    return True\n",
    " \n",
    " \n",
    "# Driver Code\n",
    "if __name__ == \"__main__\":\n",
    "    expr = \"{()}[]\"\n",
    " \n",
    "    # Function call\n",
    "    if areBracketsBalanced(expr):\n",
    "        print(\"Balanced\")\n",
    "    else:\n",
    "        print(\"Not Balanced\")\n",
    " \n",
    "# This code is contributed by AnkitRai01 and improved\n",
    "# by Raju Pitta"
   ]
  },
  {
   "cell_type": "markdown",
   "id": "d44621d3",
   "metadata": {},
   "source": [
    "## 9. Write a program to reverse a stack."
   ]
  },
  {
   "cell_type": "code",
   "execution_count": 13,
   "id": "76a74b4e",
   "metadata": {},
   "outputs": [
    {
     "name": "stdout",
     "output_type": "stream",
     "text": [
      "Original Stack\n",
      "5\n",
      "4\n",
      "3\n",
      "2\n",
      "1\n",
      "\n",
      "Stack after Reversing\n",
      "1\n",
      "2\n",
      "3\n",
      "4\n",
      "5\n"
     ]
    }
   ],
   "source": [
    "class Stack:\n",
    " \n",
    "    # create empty list\n",
    "    def __init__(self):\n",
    "        self.Elements = []\n",
    "         \n",
    "    # push() for insert an element\n",
    "    def push(self, value):\n",
    "        self.Elements.append(value)\n",
    "       \n",
    "    # pop() for remove an element\n",
    "    def pop(self):\n",
    "        return self.Elements.pop()\n",
    "     \n",
    "    # empty() check the stack is empty of not\n",
    "    def empty(self):\n",
    "        return self.Elements == []\n",
    "     \n",
    "    # show() display stack\n",
    "    def show(self):\n",
    "        for value in reversed(self.Elements):\n",
    "            print(value)\n",
    " \n",
    "# Insert_Bottom() insert value at bottom\n",
    "def BottomInsert(s, value):\n",
    "   \n",
    "    # check the stack is empty or not\n",
    "    if s.empty():\n",
    "         \n",
    "        # if stack is empty then call\n",
    "        # push() method.\n",
    "        s.push(value)\n",
    "         \n",
    "    # if stack is not empty then execute\n",
    "    # else block\n",
    "    else:\n",
    "        popped = s.pop()\n",
    "        BottomInsert(s, value)\n",
    "        s.push(popped)\n",
    " \n",
    "# Reverse() reverse the stack\n",
    "def Reverse(s):\n",
    "    if s.empty():\n",
    "        pass\n",
    "    else:\n",
    "        popped = s.pop()\n",
    "        Reverse(s)\n",
    "        BottomInsert(s, popped)\n",
    " \n",
    " \n",
    "# create object of stack class\n",
    "stk = Stack()\n",
    " \n",
    "stk.push(1)\n",
    "stk.push(2)\n",
    "stk.push(3)\n",
    "stk.push(4)\n",
    "stk.push(5)\n",
    " \n",
    "print(\"Original Stack\")\n",
    "stk.show()\n",
    " \n",
    "print(\"\\nStack after Reversing\")\n",
    "Reverse(stk)\n",
    "stk.show()"
   ]
  },
  {
   "cell_type": "markdown",
   "id": "11317bcb",
   "metadata": {},
   "source": [
    "## 10.Write a program to find the smallest number in using a stack.\n"
   ]
  },
  {
   "cell_type": "code",
   "execution_count": 14,
   "id": "463643d2",
   "metadata": {},
   "outputs": [
    {
     "name": "stdout",
     "output_type": "stream",
     "text": [
      "Number Inserted: 3\n",
      "Number Inserted: 5\n",
      "Minimum Element in the stack is: 3\n",
      "Number Inserted: 2\n",
      "Number Inserted: 1\n",
      "Minimum Element in the stack is: 1\n",
      "Top Most Element Removed :1 \n",
      "Minimum Element in the stack is: 2\n",
      "Top Most Element Removed :2 \n",
      "Top Most Element is: 5\n"
     ]
    }
   ],
   "source": [
    "class Node:\n",
    "    # Constructor which assign argument to nade's value\n",
    "    def __init__(self, value):\n",
    "        self.value = value\n",
    "        self.next = None\n",
    " \n",
    "    # This method returns the string representation of the object.\n",
    "    def __str__(self):\n",
    "        return \"Node({})\".format(self.value)\n",
    "     \n",
    "    # __repr__ is same as __str__\n",
    "    __repr__ = __str__\n",
    " \n",
    " \n",
    "class Stack:\n",
    "    # Stack Constructor initialise top of stack and counter.\n",
    "    def __init__(self):\n",
    "        self.top = None\n",
    "        self.count = 0\n",
    "        self.minimum = None\n",
    "         \n",
    "    # This method returns the string representation of the object (stack).\n",
    "    def __str__(self):\n",
    "        temp = self.top\n",
    "        out = []\n",
    "        while temp:\n",
    "            out.append(str(temp.value))\n",
    "            temp = temp.next\n",
    "        out = '\\n'.join(out)\n",
    "        return ('Top {} \\n\\nStack :\\n{}'.format(self.top,out))\n",
    "         \n",
    "    # __repr__ is same as __str__\n",
    "    __repr__=__str__\n",
    "     \n",
    "    # This method is used to get minimum element of stack\n",
    "    def getMin(self):\n",
    "        if self.top is None:\n",
    "            return \"Stack is empty\"\n",
    "        else:\n",
    "            print(\"Minimum Element in the stack is: {}\" .format(self.minimum))\n",
    " \n",
    " \n",
    " \n",
    "    # Method to check if Stack is Empty or not\n",
    "    def isEmpty(self):\n",
    "        # If top equals to None then stack is empty\n",
    "        if self.top == None:\n",
    "            return True\n",
    "        else:\n",
    "        # If top not equal to None then stack is empty\n",
    "            return False\n",
    " \n",
    "    # This method returns length of stack    \n",
    "    def __len__(self):\n",
    "        self.count = 0\n",
    "        tempNode = self.top\n",
    "        while tempNode:\n",
    "            tempNode = tempNode.next\n",
    "            self.count+=1\n",
    "        return self.count\n",
    " \n",
    "    # This method returns top of stack    \n",
    "    def peek(self):\n",
    "        if self.top is None:\n",
    "            print (\"Stack is empty\")\n",
    "        else:\n",
    "            if self.top.value < self.minimum:\n",
    "                print(\"Top Most Element is: {}\" .format(self.minimum))\n",
    "            else:\n",
    "                print(\"Top Most Element is: {}\" .format(self.top.value))\n",
    " \n",
    "    # This method is used to add node to stack\n",
    "    def push(self,value):\n",
    "        if self.top is None:\n",
    "            self.top = Node(value)\n",
    "            self.minimum = value\n",
    "         \n",
    "        elif value < self.minimum:\n",
    "            temp = (2 * value) - self.minimum\n",
    "            new_node = Node(temp)\n",
    "            new_node.next = self.top\n",
    "            self.top = new_node\n",
    "            self.minimum = value\n",
    "        else:\n",
    "            new_node = Node(value)\n",
    "            new_node.next = self.top\n",
    "            self.top = new_node\n",
    "        print(\"Number Inserted: {}\" .format(value))\n",
    " \n",
    "    # This method is used to pop top of stack\n",
    "    def pop(self):\n",
    "        if self.top is None:\n",
    "            print( \"Stack is empty\")\n",
    "        else:\n",
    "            removedNode = self.top.value\n",
    "            self.top = self.top.next\n",
    "            if removedNode < self.minimum:\n",
    "                print (\"Top Most Element Removed :{} \" .format(self.minimum))\n",
    "                self.minimum = ( ( 2 * self.minimum ) - removedNode )\n",
    "            else:\n",
    "                print (\"Top Most Element Removed : {}\" .format(removedNode))\n",
    " \n",
    "                 \n",
    "             \n",
    "     \n",
    "# Driver program to test above class\n",
    "stack = Stack()\n",
    " \n",
    "stack.push(3)\n",
    "stack.push(5)\n",
    "stack.getMin()\n",
    "stack.push(2)\n",
    "stack.push(1)\n",
    "stack.getMin()    \n",
    "stack.pop()\n",
    "stack.getMin()\n",
    "stack.pop()\n",
    "stack.peek()"
   ]
  },
  {
   "cell_type": "code",
   "execution_count": null,
   "id": "f8036203",
   "metadata": {},
   "outputs": [],
   "source": []
  }
 ],
 "metadata": {
  "kernelspec": {
   "display_name": "Python 3",
   "language": "python",
   "name": "python3"
  },
  "language_info": {
   "codemirror_mode": {
    "name": "ipython",
    "version": 3
   },
   "file_extension": ".py",
   "mimetype": "text/x-python",
   "name": "python",
   "nbconvert_exporter": "python",
   "pygments_lexer": "ipython3",
   "version": "3.8.8"
  }
 },
 "nbformat": 4,
 "nbformat_minor": 5
}
